{
 "cells": [
  {
   "cell_type": "markdown",
   "metadata": {
    "application/vnd.databricks.v1+cell": {
     "cellMetadata": {},
     "inputWidgets": {},
     "nuid": "907e8dea-21cb-4a45-9322-0c0952a9bb07",
     "showTitle": false,
     "tableResultSettingsMap": {},
     "title": ""
    }
   },
   "source": [
    "# Projeto de Análise de Dados de Vendas\n",
    "\n",
    "## Descrição\n",
    "\n",
    "Este projeto realiza a análise de dados de vendas a partir de um arquivo CSV. O pipeline de dados inclui etapas de extração, transformação e agregação dos dados para calcular a receita total por região. Os dados agregados são então salvos em um banco de dados PostgreSQL.\n",
    "\n",
    "## Tecnologias Utilizadas\n",
    "\n",
    "- Python\n",
    "- Pandas\n",
    "- SQLAlchemy\n",
    "- psycopg2-binary\n",
    "\n",
    "## Estrutura do Projeto\n",
    "\n",
    "- `Cell 1`: Instalação das bibliotecas necessárias.\n",
    "- `Cell 2`: Reinicialização do Python para garantir que as bibliotecas sejam carregadas corretamente.\n",
    "- `Cell 3`: Extração, transformação e agregação dos dados.\n",
    "- `Cell 4`: Conexão ao banco de dados PostgreSQL e salvamento dos dados.\n",
    "\n",
    "## Como Instalar e Configurar\n",
    "\n",
    "1. Clone o repositório para sua máquina local.\n",
    "2. Instale as bibliotecas necessárias:"
   ]
  }
 ],
 "metadata": {
  "application/vnd.databricks.v1+notebook": {
   "computePreferences": null,
   "dashboards": [],
   "environmentMetadata": {
    "base_environment": "",
    "environment_version": "2"
   },
   "inputWidgetPreferences": null,
   "language": "python",
   "notebookMetadata": {
    "pythonIndentUnit": 4
   },
   "notebookName": "README.md",
   "widgets": {}
  },
  "language_info": {
   "name": "python"
  }
 },
 "nbformat": 4,
 "nbformat_minor": 0
}
