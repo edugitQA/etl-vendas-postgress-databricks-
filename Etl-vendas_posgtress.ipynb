{
 "cells": [
  {
   "cell_type": "code",
   "execution_count": 0,
   "metadata": {
    "application/vnd.databricks.v1+cell": {
     "cellMetadata": {
      "byteLimit": 2048000,
      "rowLimit": 10000
     },
     "collapsed": true,
     "inputWidgets": {},
     "nuid": "34bb3fb4-4d7f-4692-ad0f-f5848ac37f41",
     "showTitle": false,
     "tableResultSettingsMap": {},
     "title": ""
    }
   },
   "outputs": [],
   "source": [
    "# libs\n",
    "%pip install psycopg2-binary sqlalchemy\n",
    "%pip install sqlalchemy==2.0.25\n",
    "\n"
   ]
  },
  {
   "cell_type": "code",
   "execution_count": 0,
   "metadata": {
    "application/vnd.databricks.v1+cell": {
     "cellMetadata": {
      "byteLimit": 2048000,
      "rowLimit": 10000
     },
     "inputWidgets": {},
     "nuid": "ad04eadc-f6de-4775-a473-ed12cc2d43b5",
     "showTitle": false,
     "tableResultSettingsMap": {},
     "title": ""
    }
   },
   "outputs": [],
   "source": [
    "dbutils.library.restartPython()"
   ]
  },
  {
   "cell_type": "code",
   "execution_count": 0,
   "metadata": {
    "application/vnd.databricks.v1+cell": {
     "cellMetadata": {
      "byteLimit": 2048000,
      "rowLimit": 10000
     },
     "inputWidgets": {},
     "nuid": "a9a65b61-f331-4762-890b-1d056079c94f",
     "showTitle": false,
     "tableResultSettingsMap": {},
     "title": ""
    }
   },
   "outputs": [],
   "source": [
    "import pandas as pd\n",
    "\n",
    "# Caminho do arquivo\n",
    "file_path = \"/Volumes/workspace/default/mock-data/MOCK_DATA.csv\"\n",
    "\n",
    "# 1. EXTRAÇÃO\n",
    "df = pd.read_csv(file_path)\n",
    "\n",
    "# 2. TRANSFORMAÇÃO\n",
    "df.dropna(subset=[\"produto\", \"região\"], inplace=True)\n",
    "df[\"quantidade\"] = pd.to_numeric(df[\"quantidade\"], errors=\"coerce\").fillna(0)\n",
    "df[\"preco_unitario\"] = pd.to_numeric(df[\"preco_unitario\"], errors=\"coerce\").fillna(0)\n",
    "df[\"receita\"] = df[\"quantidade\"] * df[\"preco_unitario\"]\n",
    "\n",
    "df_agrupado = df.groupby(\"região\").agg({\"receita\": \"sum\"}).reset_index()\n"
   ]
  },
  {
   "cell_type": "code",
   "execution_count": 0,
   "metadata": {
    "application/vnd.databricks.v1+cell": {
     "cellMetadata": {
      "byteLimit": 2048000,
      "rowLimit": 10000
     },
     "inputWidgets": {},
     "nuid": "00ad210d-2955-4376-bf36-e3a24981c2d4",
     "showTitle": false,
     "tableResultSettingsMap": {},
     "title": ""
    }
   },
   "outputs": [],
   "source": [
    "# --- Imports ---\n",
    "from sqlalchemy import create_engine, text\n",
    "from sqlalchemy.exc import OperationalError, ProgrammingError\n",
    "import pandas as pd\n",
    "\n",
    "\n",
    "\n",
    "# --- URL e Engine ---\n",
    "url = \"aqui sua url de conexao com banco de dados \"\n",
    "engine = create_engine(url)\n",
    "\n",
    "# --- Verificação DB---\n",
    "def verificar_conexao(engine):\n",
    "    \"\"\"\n",
    "    Verifica se a conexão com o banco de dados está ativa.\n",
    "\n",
    "    Args:\n",
    "        engine: Uma instância do engine do SQLAlchemy.\n",
    "\n",
    "    Returns:\n",
    "        True se a conexão for bem-sucedida, False caso contrário.\n",
    "    \"\"\"\n",
    "    try:\n",
    "        with engine.connect() as connection:\n",
    "            connection.execute(text(\"SELECT 1\"))\n",
    "        print(\"✅ Conexão com o banco de dados estabelecida com sucesso!\")\n",
    "        return True\n",
    "    except Exception as e:\n",
    "        print(f\"❌ Falha ao conectar com o banco de dados: {e}\")\n",
    "        return False\n",
    "\n",
    "# ---Carga no postgressSQL---\n",
    "\n",
    "if verificar_conexao(engine):\n",
    "    dados_exemplo = {'regiao': ['Norte', 'Sul', 'Sudeste'], 'receita': [1000, 3500, 8000]}\n",
    "    df_agrupado = pd.DataFrame(dados_exemplo)\n",
    "\n",
    "    print(\"\\nIniciando a carga de dados no PostgreSQL...\")\n",
    "    try:\n",
    "        df_agrupado.to_sql(\"receita_por_regiao\", engine, if_exists=\"replace\", index=False)\n",
    "        print(\"✅ Dados enviados com sucesso ao Supabase!\")\n",
    "    except Exception as e:\n",
    "        print(f\"❌ Erro durante a carga dos dados: {e}\")"
   ]
  }
 ],
 "metadata": {
  "application/vnd.databricks.v1+notebook": {
   "computePreferences": null,
   "dashboards": [],
   "environmentMetadata": {
    "base_environment": "",
    "environment_version": "2"
   },
   "inputWidgetPreferences": null,
   "language": "python",
   "notebookMetadata": {
    "pythonIndentUnit": 4
   },
   "notebookName": "Etl-vendas_posgtress",
   "widgets": {}
  },
  "language_info": {
   "name": "python"
  }
 },
 "nbformat": 4,
 "nbformat_minor": 0
}
